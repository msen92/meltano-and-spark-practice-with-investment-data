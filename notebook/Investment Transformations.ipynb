{
 "cells": [
  {
   "cell_type": "markdown",
   "id": "a42e6d01",
   "metadata": {},
   "source": [
    "# Investment Transformations"
   ]
  },
  {
   "cell_type": "code",
   "execution_count": null,
   "id": "20ed290f",
   "metadata": {},
   "outputs": [],
   "source": [
    "# Import libraries and set SPARK_HOME\n",
    "from pyspark.sql import SparkSession,Window\n",
    "import os\n",
    "from pyspark.sql.functions import col,lit\n",
    "import pyspark.sql.functions as func\n",
    "os.environ['SPARK_HOME'] = '/Users/mehmet.senturk/opt/miniconda3/envs/investment_insights/lib/python3.7/site-packages/pyspark'"
   ]
  },
  {
   "cell_type": "code",
   "execution_count": null,
   "id": "4174671f",
   "metadata": {},
   "outputs": [],
   "source": [
    "# Create a spark session\n",
    "spark = SparkSession.builder.appName(\"Investment Transformations\").getOrCreate()"
   ]
  },
  {
   "cell_type": "code",
   "execution_count": null,
   "id": "47ca610b",
   "metadata": {},
   "outputs": [],
   "source": [
    "# Creating DataFrames for each parit\n",
    "gold_prices_df = spark.read.parquet('../output/gold_tl_parity_stream-*.parquet')\n",
    "dollar_prices_df = spark.read.parquet('../output/dollar_tl_parity_stream-*.parquet')\n",
    "euro_prices_df = spark.read.parquet('../output/euro_tl_parity_stream-*.parquet')"
   ]
  },
  {
   "cell_type": "code",
   "execution_count": null,
   "id": "ca43fbba",
   "metadata": {},
   "outputs": [],
   "source": [
    "gold_prices_df.show()"
   ]
  },
  {
   "cell_type": "code",
   "execution_count": null,
   "id": "c387b94f",
   "metadata": {},
   "outputs": [],
   "source": [
    "dollar_prices_df = dollar_prices_df.select('date','parity','buying_price',func.lead('date',1,'9999-12-31').over(Window.orderBy('date')).alias('next_date'))"
   ]
  },
  {
   "cell_type": "code",
   "execution_count": null,
   "id": "5222bf46",
   "metadata": {},
   "outputs": [],
   "source": [
    "euro_prices_df = euro_prices_df.select('date','parity','buying_price',func.lead('date',1,'9999-12-31').over(Window.orderBy('date')).alias('next_date'))"
   ]
  },
  {
   "cell_type": "code",
   "execution_count": null,
   "id": "fe24c24e",
   "metadata": {},
   "outputs": [],
   "source": [
    "# To interpolate missing dates in dollar and euro data, join condition is given like below\n",
    "all_instruments_df = gold_prices_df.join(\n",
    "    dollar_prices_df\n",
    "    ,(gold_prices_df['date'] < dollar_prices_df['next_date']) & (gold_prices_df['date'] >= dollar_prices_df['date'])\n",
    "    ,'left'\n",
    ").join(\n",
    "euro_prices_df\n",
    "    ,(gold_prices_df['date'] < euro_prices_df['next_date']) & (gold_prices_df['date'] >= euro_prices_df['date'])\n",
    "    ,'left'\n",
    ").select(\n",
    "    gold_prices_df['date']\n",
    "    ,gold_prices_df['buying_price'].alias('gold_buying_price')\n",
    "    ,dollar_prices_df['buying_price'].alias('dollar_buying_price')\n",
    "    ,euro_prices_df['buying_price'].alias('euro_buying_price')\n",
    ")"
   ]
  },
  {
   "cell_type": "code",
   "execution_count": null,
   "id": "2d48c403",
   "metadata": {},
   "outputs": [],
   "source": [
    "investments_df = spark.read.parquet('../output/Investments-*.parquet').select(\n",
    "    col('investment_instrument')\n",
    "    ,func.round(col('price').cast('float'),2).alias('price')\n",
    "    ,col('investment_date').cast('date')\n",
    "    ,func.round(col('amount').cast('float'),2).alias('amount')\n",
    "    ,func.lead('investment_date',1,'9999-12-31').over(Window.partitionBy('investment_instrument').orderBy('investment_date')).alias('next_investment_date')\n",
    "    ,func.sum(col('amount') * col('price')).over(Window.partitionBy('investment_instrument').orderBy('investment_date')).alias('cumulative_amount_in_turkish_liras')\n",
    "    ,func.sum('amount').over(Window.partitionBy('investment_instrument').orderBy('investment_date')).alias('cumulative_amount_in_investment_instrument')\n",
    "    )"
   ]
  },
  {
   "cell_type": "code",
   "execution_count": null,
   "id": "33125df1",
   "metadata": {},
   "outputs": [],
   "source": [
    "investments_df.show(10)"
   ]
  },
  {
   "cell_type": "code",
   "execution_count": null,
   "id": "521abee5",
   "metadata": {},
   "outputs": [],
   "source": [
    "all_instruments_df.show(10)"
   ]
  },
  {
   "cell_type": "code",
   "execution_count": null,
   "id": "5df2e7fa",
   "metadata": {},
   "outputs": [],
   "source": [
    "dollar_investments_df = investments_df.where(\"investment_instrument = 'Dollar'\")\n",
    "euro_investments_df = investments_df.where(\"investment_instrument = 'Euro'\")\n",
    "gold_investments_df = investments_df.where(\"investment_instrument = 'Gold'\")"
   ]
  },
  {
   "cell_type": "code",
   "execution_count": null,
   "id": "8bb0f824",
   "metadata": {},
   "outputs": [],
   "source": [
    "gold_investments_df.collect()"
   ]
  },
  {
   "cell_type": "code",
   "execution_count": null,
   "id": "706e94c6",
   "metadata": {},
   "outputs": [],
   "source": [
    "final_df = all_instruments_df.alias('main').join(\n",
    "    dollar_investments_df.alias('dollar')\n",
    "    ,(col('main.date') < col('dollar.next_investment_date')) & (col('main.date') >= col('dollar.investment_date'))\n",
    "    ,'left'\n",
    ").join(\n",
    "    euro_investments_df.alias('euro')\n",
    "    ,(col('main.date') < col('euro.next_investment_date')) & (col('main.date') >= col('euro.investment_date'))\n",
    "    ,'left'\n",
    ").join(\n",
    "    gold_investments_df.alias('gold')\n",
    "    ,(col('main.date') < col('gold.next_investment_date')) & (col('main.date') >= col('gold.investment_date'))\n",
    "    ,'left'\n",
    ").select(\n",
    "    'date'\n",
    "    ,'gold_buying_price'\n",
    "    ,'dollar_buying_price'\n",
    "    ,'euro_buying_price'\n",
    "    ,func.coalesce(col('dollar.cumulative_amount_in_turkish_liras'),lit(0)).alias('dollar_cumulative_amount_in_tl')\n",
    "    ,func.coalesce(col('dollar.cumulative_amount_in_investment_instrument'),lit(0)).alias('dollar_cumulative_amount_in_investment_instrument')\n",
    "    ,func.coalesce((col('dollar.cumulative_amount_in_investment_instrument') * col('dollar_buying_price')),lit(0)).alias('value_of_dollar_investment_in_tl')\n",
    "    ,func.coalesce(col('euro.cumulative_amount_in_turkish_liras'),lit(0)).alias('euro_cumulative_amount_in_tl')\n",
    "    ,func.coalesce(col('euro.cumulative_amount_in_investment_instrument'),lit(0)).alias('euro_cumulative_amount_in_investment_instrument')\n",
    "    ,func.coalesce((col('euro.cumulative_amount_in_investment_instrument') * col('euro_buying_price')),lit(0)).alias('value_of_euro_investment_in_tl')\n",
    "    ,func.coalesce(col('gold.cumulative_amount_in_turkish_liras'),lit(0)).alias('gold_cumulative_amount_in_tl')\n",
    "    ,func.coalesce(col('gold.cumulative_amount_in_investment_instrument'),lit(0)).alias('gold_cumulative_amount_in_investment_instrument')\n",
    "    ,func.coalesce((col('gold.cumulative_amount_in_investment_instrument') * col('gold_buying_price')),lit(0)).alias('value_of_gold_investment_in_tl')\n",
    ")"
   ]
  },
  {
   "cell_type": "code",
   "execution_count": null,
   "id": "4957cc98",
   "metadata": {},
   "outputs": [],
   "source": [
    "final_df.createOrReplaceTempView('final')"
   ]
  },
  {
   "cell_type": "code",
   "execution_count": null,
   "id": "6149ded7",
   "metadata": {},
   "outputs": [],
   "source": [
    "final_df.orderBy('date',ascending = False).limit(10).show() "
   ]
  },
  {
   "cell_type": "code",
   "execution_count": null,
   "id": "d687a1a1",
   "metadata": {},
   "outputs": [],
   "source": [
    "final_df.where(\"date = '2023-01-21'\").select(\n",
    "    (col('value_of_dollar_investment_in_tl') - col('dollar_cumulative_amount_in_tl')).alias('dollar_revenue')\n",
    "    ,(col('value_of_euro_investment_in_tl') - col('euro_cumulative_amount_in_tl')).alias('euro_revenue')\n",
    "    ,(col('value_of_gold_investment_in_tl') - col('gold_cumulative_amount_in_tl')).alias('gold_revenue')\n",
    ").select(\n",
    "    '*'\n",
    "    ,(col('dollar_revenue') + col('euro_revenue') + col('gold_revenue')).alias('total_revenue')\n",
    ").show()"
   ]
  },
  {
   "cell_type": "code",
   "execution_count": null,
   "id": "b94df60f",
   "metadata": {},
   "outputs": [],
   "source": [
    "final_df.where(\"date = '2023-01-21'\").rdd.take(1)[0].asDict()"
   ]
  }
 ],
 "metadata": {
  "kernelspec": {
   "display_name": "investment_insights",
   "language": "python",
   "name": "python3"
  },
  "language_info": {
   "codemirror_mode": {
    "name": "ipython",
    "version": 3
   },
   "file_extension": ".py",
   "mimetype": "text/x-python",
   "name": "python",
   "nbconvert_exporter": "python",
   "pygments_lexer": "ipython3",
   "version": "3.7.4"
  },
  "vscode": {
   "interpreter": {
    "hash": "8d43b235a6cf488038c1b804f6005f5fcc1465b4b5fadf4aa7974dc62e30edc4"
   }
  }
 },
 "nbformat": 4,
 "nbformat_minor": 5
}
